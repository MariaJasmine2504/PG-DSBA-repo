{
 "cells": [
  {
   "cell_type": "code",
   "execution_count": 2,
   "id": "9a85229c",
   "metadata": {},
   "outputs": [],
   "source": [
    "import numpy as np\n",
    "import pandas as pd\n",
    "import string\n",
    "import re"
   ]
  },
  {
   "cell_type": "code",
   "execution_count": 151,
   "id": "d14ddb72",
   "metadata": {},
   "outputs": [],
   "source": [
    "GL = pd.read_csv('GL reviews.csv')"
   ]
  },
  {
   "cell_type": "code",
   "execution_count": 314,
   "id": "538984cd",
   "metadata": {},
   "outputs": [
    {
     "data": {
      "text/html": [
       "<div>\n",
       "<style scoped>\n",
       "    .dataframe tbody tr th:only-of-type {\n",
       "        vertical-align: middle;\n",
       "    }\n",
       "\n",
       "    .dataframe tbody tr th {\n",
       "        vertical-align: top;\n",
       "    }\n",
       "\n",
       "    .dataframe thead th {\n",
       "        text-align: right;\n",
       "    }\n",
       "</style>\n",
       "<table border=\"1\" class=\"dataframe\">\n",
       "  <thead>\n",
       "    <tr style=\"text-align: right;\">\n",
       "      <th></th>\n",
       "      <th>ID</th>\n",
       "      <th>Reviews</th>\n",
       "    </tr>\n",
       "  </thead>\n",
       "  <tbody>\n",
       "    <tr>\n",
       "      <th>0</th>\n",
       "      <td>1</td>\n",
       "      <td>i have pursued course from great learning it w...</td>\n",
       "    </tr>\n",
       "    <tr>\n",
       "      <th>1</th>\n",
       "      <td>2</td>\n",
       "      <td>i learnt data science from scratch mentors and...</td>\n",
       "    </tr>\n",
       "    <tr>\n",
       "      <th>2</th>\n",
       "      <td>3</td>\n",
       "      <td>guys dont hesitate the research has been done ...</td>\n",
       "    </tr>\n",
       "    <tr>\n",
       "      <th>3</th>\n",
       "      <td>4</td>\n",
       "      <td>the organization is the best in class be it co...</td>\n",
       "    </tr>\n",
       "    <tr>\n",
       "      <th>4</th>\n",
       "      <td>5</td>\n",
       "      <td>i was able to make a internal shift in the cor...</td>\n",
       "    </tr>\n",
       "    <tr>\n",
       "      <th>5</th>\n",
       "      <td>6</td>\n",
       "      <td>quizzes assignments projects are very helpful ...</td>\n",
       "    </tr>\n",
       "    <tr>\n",
       "      <th>6</th>\n",
       "      <td>7</td>\n",
       "      <td>the quizzes hands on lab sessions and assignme...</td>\n",
       "    </tr>\n",
       "    <tr>\n",
       "      <th>7</th>\n",
       "      <td>8</td>\n",
       "      <td>the program office has always been around to h...</td>\n",
       "    </tr>\n",
       "    <tr>\n",
       "      <th>8</th>\n",
       "      <td>9</td>\n",
       "      <td>i am very much satisfied with the way this who...</td>\n",
       "    </tr>\n",
       "    <tr>\n",
       "      <th>9</th>\n",
       "      <td>10</td>\n",
       "      <td>to my satisfaction the course has been quite c...</td>\n",
       "    </tr>\n",
       "    <tr>\n",
       "      <th>10</th>\n",
       "      <td>11</td>\n",
       "      <td>basically i wanted a technology and career cha...</td>\n",
       "    </tr>\n",
       "    <tr>\n",
       "      <th>11</th>\n",
       "      <td>12</td>\n",
       "      <td>gl has a very structured course which helps pe...</td>\n",
       "    </tr>\n",
       "    <tr>\n",
       "      <th>12</th>\n",
       "      <td>13</td>\n",
       "      <td>highly recommended for all professionalsthe da...</td>\n",
       "    </tr>\n",
       "    <tr>\n",
       "      <th>13</th>\n",
       "      <td>14</td>\n",
       "      <td>the program is comprehensive in natire coverin...</td>\n",
       "    </tr>\n",
       "    <tr>\n",
       "      <th>14</th>\n",
       "      <td>15</td>\n",
       "      <td>the administration and point of contact suppor...</td>\n",
       "    </tr>\n",
       "    <tr>\n",
       "      <th>15</th>\n",
       "      <td>16</td>\n",
       "      <td>great learning was a happy place for me to lea...</td>\n",
       "    </tr>\n",
       "    <tr>\n",
       "      <th>16</th>\n",
       "      <td>17</td>\n",
       "      <td>their curriculum is very impressive and they m...</td>\n",
       "    </tr>\n",
       "    <tr>\n",
       "      <th>17</th>\n",
       "      <td>18</td>\n",
       "      <td>the amount of effort and accommodating that we...</td>\n",
       "    </tr>\n",
       "    <tr>\n",
       "      <th>18</th>\n",
       "      <td>19</td>\n",
       "      <td>especially to jenlyn and sunil who at any hour...</td>\n",
       "    </tr>\n",
       "    <tr>\n",
       "      <th>19</th>\n",
       "      <td>20</td>\n",
       "      <td>the most beautiful aspect of this program is t...</td>\n",
       "    </tr>\n",
       "    <tr>\n",
       "      <th>20</th>\n",
       "      <td>21</td>\n",
       "      <td>there were so many options before me like the ...</td>\n",
       "    </tr>\n",
       "    <tr>\n",
       "      <th>21</th>\n",
       "      <td>22</td>\n",
       "      <td>my experience with greatlearning has been extr...</td>\n",
       "    </tr>\n",
       "    <tr>\n",
       "      <th>22</th>\n",
       "      <td>23</td>\n",
       "      <td>i was already working as a manager but i opted...</td>\n",
       "    </tr>\n",
       "    <tr>\n",
       "      <th>23</th>\n",
       "      <td>24</td>\n",
       "      <td>structure of the program is very good for an e...</td>\n",
       "    </tr>\n",
       "  </tbody>\n",
       "</table>\n",
       "</div>"
      ],
      "text/plain": [
       "    ID                                            Reviews\n",
       "0    1  i have pursued course from great learning it w...\n",
       "1    2  i learnt data science from scratch mentors and...\n",
       "2    3  guys dont hesitate the research has been done ...\n",
       "3    4  the organization is the best in class be it co...\n",
       "4    5  i was able to make a internal shift in the cor...\n",
       "5    6  quizzes assignments projects are very helpful ...\n",
       "6    7  the quizzes hands on lab sessions and assignme...\n",
       "7    8  the program office has always been around to h...\n",
       "8    9  i am very much satisfied with the way this who...\n",
       "9   10  to my satisfaction the course has been quite c...\n",
       "10  11  basically i wanted a technology and career cha...\n",
       "11  12  gl has a very structured course which helps pe...\n",
       "12  13  highly recommended for all professionalsthe da...\n",
       "13  14  the program is comprehensive in natire coverin...\n",
       "14  15  the administration and point of contact suppor...\n",
       "15  16  great learning was a happy place for me to lea...\n",
       "16  17  their curriculum is very impressive and they m...\n",
       "17  18  the amount of effort and accommodating that we...\n",
       "18  19  especially to jenlyn and sunil who at any hour...\n",
       "19  20  the most beautiful aspect of this program is t...\n",
       "20  21  there were so many options before me like the ...\n",
       "21  22  my experience with greatlearning has been extr...\n",
       "22  23  i was already working as a manager but i opted...\n",
       "23  24  structure of the program is very good for an e..."
      ]
     },
     "execution_count": 314,
     "metadata": {},
     "output_type": "execute_result"
    }
   ],
   "source": [
    "GL.head(25)"
   ]
  },
  {
   "cell_type": "code",
   "execution_count": 28,
   "id": "b0330f65",
   "metadata": {},
   "outputs": [],
   "source": [
    "import nltk"
   ]
  },
  {
   "cell_type": "code",
   "execution_count": 152,
   "id": "666f8242",
   "metadata": {},
   "outputs": [
    {
     "data": {
      "text/plain": [
       "0    \"i have pursued course from great learning, it...\n",
       "1    i learnt data science from scratch. mentors an...\n",
       "2    guys dont hesitate, the research has been done...\n",
       "3    the organization is the best in class be it co...\n",
       "4    i, was able to make a internal shift in the co...\n",
       "Name: Reviews, dtype: object"
      ]
     },
     "execution_count": 152,
     "metadata": {},
     "output_type": "execute_result"
    }
   ],
   "source": [
    "GL['Reviews'] = GL['Reviews'].apply(lambda x: \" \".join(x.lower() for x in x.split()))\n",
    "GL['Reviews'].head()"
   ]
  },
  {
   "cell_type": "code",
   "execution_count": 153,
   "id": "f4399c01",
   "metadata": {},
   "outputs": [
    {
     "name": "stderr",
     "output_type": "stream",
     "text": [
      "<ipython-input-153-c0ae4ce5f0e4>:1: FutureWarning: The default value of regex will change from True to False in a future version.\n",
      "  GL['Reviews'] = GL['Reviews'].str.replace('[^\\w\\s]','')\n"
     ]
    }
   ],
   "source": [
    "GL['Reviews'] = GL['Reviews'].str.replace('[^\\w\\s]','')"
   ]
  },
  {
   "cell_type": "code",
   "execution_count": 305,
   "id": "a46b07ba",
   "metadata": {},
   "outputs": [],
   "source": [
    "stopwords = nltk.corpus.stopwords.words('english') +list(string.punctuation)\n",
    "stopwords.extend(['program','gl','really','well','us','make','sure','etc','say','also','one','took','im','get','always','used','would' 'issues','hands','far','like','made','pgpdsba','managers','pgpbabi','way','course','background','guys','pursued' 'dont','ones','got','k', 'similar', 'working', 'shared', 'add', 'mark', 'aspect', 'ensured',\n",
    "       'neededproject', 'realize', 'hands0n', 'day', 'python', 'pick', 'place', 'gets', 'unnecessary', 'amount',   'culture', 'hoursoverall','bank', 'oh', 'hour', 'furtheri', 'mr', 'crowd', 'thoroughly', 'noncoding', 'liked', 'taught', 'standards', 'professionalsthe', 'gives','rate', 'completely', 'later', 'comes', 'areas', 'thought', 'week',\n",
    "       'iims','came', 'moduleeven', 'searched', 'various', 'whenever','truly', 'dont', 'sector', 'guns', 'additional', '11', 'platform', 'openness', 'internal', 'field','advance','many', 'life', 'classes', 'feel', 'keep', 'cant',  'study', 'seriously', 'choosing', 'anyone', 'solved','pursued','learn','every','able','apply','going','slow','hesitate',\n",
    "                  'theres','even','look','guysenrolling','guysthese','done','issue','science','data','provided','makes','want','provides','providing','something','looking','definitely','wanted','lot','lab','laid','know','much','person','learning'])"
   ]
  },
  {
   "cell_type": "code",
   "execution_count": 306,
   "id": "36bd8385",
   "metadata": {},
   "outputs": [
    {
     "data": {
      "text/plain": [
       "0     great wonderful experience great mentors quizz...\n",
       "1     learnt scratch mentors helpful projects quizze...\n",
       "2     research reviews good work try best accommodat...\n",
       "3     organization best class content faculty manage...\n",
       "4     shift core analytics team switch scientist top...\n",
       "5     quizzes assignments projects helpful making go...\n",
       "6     quizzes sessions assignments great help cement...\n",
       "7     office around help kind resolution earliestim ...\n",
       "8     satisfied whole conducted quite comprehensive ...\n",
       "9     satisfaction quite comprehensive indeed profes...\n",
       "10    basically technology career chage unsure start...\n",
       "11    structured helps people succeed content detail...\n",
       "12    highly recommended best industry biggest highl...\n",
       "13    comprehensive natire covering topics statistic...\n",
       "14    administration point contact support helpful q...\n",
       "15    great happy strongly believe experience help g...\n",
       "16    curriculum impressive meeting international ma...\n",
       "17    effort accommodating went put words happy cust...\n",
       "18    especially jenlyn sunil never fail support gre...\n",
       "19    beautiful learnings reallife business analytic...\n",
       "20    options iits could weekends without hindering ...\n",
       "21    experience greatlearning extremely good rigoro...\n",
       "22    already manager opted explore opportunities to...\n",
       "23    structure good experienced basics required tak...\n",
       "Name: Reviews, dtype: object"
      ]
     },
     "execution_count": 306,
     "metadata": {},
     "output_type": "execute_result"
    }
   ],
   "source": [
    "corpus_new = GL['Reviews'].apply(lambda x: ' '.join([z for z in x.split() if z not in stopwords])) \n",
    "corpus_new"
   ]
  },
  {
   "cell_type": "code",
   "execution_count": 307,
   "id": "e17c276e",
   "metadata": {},
   "outputs": [],
   "source": [
    "freq = pd.Series(' '.join(corpus_new).split()).value_counts()[-50:]"
   ]
  },
  {
   "cell_type": "code",
   "execution_count": 308,
   "id": "06e4e238",
   "metadata": {},
   "outputs": [],
   "source": [
    "corpus_new= corpus_new.apply(lambda x: \" \".join(x for x in x.split() if x not in freq))"
   ]
  },
  {
   "cell_type": "code",
   "execution_count": 309,
   "id": "fbd146ec",
   "metadata": {},
   "outputs": [],
   "source": [
    "# freq = pd.Series(' '.join(corpus_new).split()).value_counts()[10:50]"
   ]
  },
  {
   "cell_type": "code",
   "execution_count": 310,
   "id": "589b944b",
   "metadata": {},
   "outputs": [],
   "source": [
    "lemmatizer = WordNetLemmatizer()\n",
    "lemmatized_output = ' '.join([lemmatizer.lemmatize(w) for w in corpus_new])"
   ]
  },
  {
   "cell_type": "code",
   "execution_count": 311,
   "id": "7b978468",
   "metadata": {},
   "outputs": [],
   "source": [
    "# !pip install wordcloud"
   ]
  },
  {
   "cell_type": "code",
   "execution_count": 312,
   "id": "551b0379",
   "metadata": {},
   "outputs": [],
   "source": [
    "import matplotlib.pyplot as plt"
   ]
  },
  {
   "cell_type": "code",
   "execution_count": 313,
   "id": "a722d9db",
   "metadata": {
    "scrolled": true
   },
   "outputs": [
    {
     "data": {
      "text/plain": [
       "<wordcloud.wordcloud.WordCloud at 0x25ed74ec5b0>"
      ]
     },
     "execution_count": 313,
     "metadata": {},
     "output_type": "execute_result"
    }
   ],
   "source": [
    "# Word Cloud \n",
    "from wordcloud import WordCloud\n",
    "wordcloud = WordCloud(width = 5000, height = 2000, \n",
    "                background_color ='black', \n",
    "                min_font_size = 5, random_state=100,max_words=100).generate(lemmatized_output) \n",
    "wordcloud.to_file(\"wordCloud.png\")\n",
    "\n",
    "#Tip: You can specify stopwords, regex (punctuations/symbols) in the wordcloud itself, check CTRL+TAB on the wordcloud fuction!"
   ]
  },
  {
   "cell_type": "code",
   "execution_count": 218,
   "id": "d3cd5ab2",
   "metadata": {},
   "outputs": [],
   "source": [
    "from PIL import Image"
   ]
  },
  {
   "cell_type": "code",
   "execution_count": 216,
   "id": "a4acf5d2",
   "metadata": {},
   "outputs": [],
   "source": [
    "image_file = open()"
   ]
  },
  {
   "cell_type": "code",
   "execution_count": 231,
   "id": "69b65142",
   "metadata": {},
   "outputs": [],
   "source": [
    "maskArray = np.array(Image.open(\"thumb_up.png\"))"
   ]
  },
  {
   "cell_type": "code",
   "execution_count": 234,
   "id": "206e2942",
   "metadata": {},
   "outputs": [
    {
     "data": {
      "text/plain": [
       "'great wonderful experience great mentors quizzes feedback career chance work great thankful opportunitymy experience outstanding professionals whether mentors instructors knowledgable structured outline quizzes ask expert assignments upskills knowledge nicely laid scratch mentors helpful projects quizzes nice person scratch right effort plan laid value money reviews good work try best accommodate requests show help highly recommend best choice organization best class content faculty manager supportive support needs upskill competency designed structured person hackathon shift core analytics team switch scientist top global organizationi great lakes wide courses expert lecturersmy favorites machine tableau courses followed group activities normprogram management handled quite pandemic times quizzes assignments projects helpful making good command modules faculty talentedprogram supportive available resolve earliestit great enrolled faculties great team members professional approach proactive offer help requiredthe topics included curriculum superb learner wishes transition currently enrolled wonderful journey quizzes lab sessions assignments great help cementing concepts facultyand capstone mentor journey supportive willing offer help topics covered office help kind resolution earliestim definitely recommend friends looking taking courses sciencei happy decided take analytics greatlearningin career change government private much satisfied whole conducted quite comprehensive covering almost important topics structured manner sufficient material practice along quizzes lab sessions group assignments times pandemic gaps pace perfect everybody catch upfaculties quite knowledgeable extra efforts clearing doubts manager responded queries timein great learningmy experience good terms content overall structure paramount new learner satisfaction quite comprehensive indeed professional faculties great peers experienced lot variety backgrounds live sessions immersive enough quizzes assignments capstone project hackathon reinforced applications rest academic support management feedback suggestions strongly recommend great fresher experienced people looking career analyticsso know great online variety courses analytics ml convinced courses basically wanted technology career chage unsure great learners paves goals easily know read type work jobs different importantly mentors time support guide opportunity work capstone project helped understand reality happy confident jobs easily improve skills outstand crowdi started great feb 2021 35 months already confident subject structured helps people content detailed optional courses useful faculty great highlight weekly mentoring session professional covers concept detail practice assignment helpful step excited venture discipline completed highly recommended best industry biggest highlight trainers designed beginner achieve mastery subjectsthere industry covers wide range topics right scratch ie mathstatistics toughest topics deep learninganyone goes programs definitely set apart highly recommend courses passionate dedicated build great career sciencei currently student post business analytics online months duration comprehensive natire covering topics statistical analysis machine mining text mining time others content materials lucid videos crafted ensure proper people minimal analytics ample relevant case studies exercises featuring real datasets enhance coding skills primary language coding scope r sql management tableau part curriculum administration point contact support helpful queries within 48 great acquainted analyticsgreat best choice people specialized business analytics great happy strongly experience help grow careeri great faculty amazing easy understand training material thousands reviews covering denying curriculum impressive meeting international mainly faculties handled faculties explaining concepts clear manner faculties kind friendly humble communicating explaining concepts industry experiencemany thanks strong statistics effort accommodating went words happy customer virtual served silver platter hard ignorewhen people virtual hard thing changed perspective virtual p viswanathan sir faculty great predictive modeling virtual class whistles virtual golden gate bridge everything still said prefers good old blackboard thats much work definitely gogreat efforts great team jenlyn never fail support great almost cheersgreat online programs great completed pgbabi structured new doubts weekly material resolved mentoring session good mix assisted weekly mentor assures help available module understand module capstone project helps putting together concepts coursei enjoyed understanding great work thanks efforts taken management huge success reallife business analytics problems points contribute quality content designed worldclass faculties turnaround time queries regular classroom options iits wanted could weekends without hindering regular work interested blend academicians industry specialist great criteria institution focusses overall grooming students experience greatlearning extremely good available country best part lot exposure people coming industry experiences overall content quite comprehensive lot things work already manager opted explore opportunities towards management great experience faculties colleges different backgrounds industry sessions 10 10 structure good experienced person basics required taken care students highly experienced real value whole experience'"
      ]
     },
     "execution_count": 234,
     "metadata": {},
     "output_type": "execute_result"
    }
   ],
   "source": [
    "lemmatized_output"
   ]
  },
  {
   "cell_type": "code",
   "execution_count": 235,
   "id": "acacc52c",
   "metadata": {},
   "outputs": [],
   "source": [
    "cloud = \"great  wonderful experience great mentors quizzes feedback career chance work great  thankful opportunity my experience outstanding professionals whether mentors instructors knowledgeable structured outline quizzes ask expert assignments upskills knowledge nicely laid scratch mentors helpful projects quizzes nice person scratch right effort plan laid value money reviews good work try best accommodate requests show help highly recommend best choice organization best class content faculty manager supportive providing support needs upskill competency designed structured person hackathon something shift core analytics team switch scientist top global organization great lakes wide courses expert lecturer favorites machine  tableau courses followed group activities program management handled quite pandemic times quizzes assignments projects helpful making good command modules faculty talented program supportive available resolve earliest it great  enrolled faculties great  team members professional approach proactive offer help requiredthe topics included curriculum superb learner wishes transition currently enrolled wonderful journey quizzes lab sessions assignments great help cementing concepts faculty and capstone mentor journey supportive willing offer help topics covered office help kind resolution earliest definitely recommend friends looking taking courses science happy decided take analytics  career change government private much satisfied whole conducted quite comprehensive covering almost important topics structured manner sufficient material practice along quizzes lab sessions group assignments times pandemic gaps pace perfect everybody catch up faculties quite knowledgeable extra efforts clearing doubts manager responded queries time in great  experience good terms content overall structure paramount new learner satisfaction quite comprehensive indeed professional  faculties great peers experienced lot variety backgrounds live  sessions immersive enough quizzes assignments capstone project hackathon reinforced  applications academic support management feedback suggestions strongly recommend great  fresher experienced people looking career analytics know great  online provides variety courses analytics ml convinced courses basically wanted technology career change unsure great learners paves goals easily know read type work jobs different importantly mentors time support guide opportunity work capstone project helped understand reality happy confident jobs easily improve skills outstand crowd started great   already confident subject structured helps people content detailed provides optional courses useful faculty great highlight weekly mentoring session professional covers concept detail practice assignment helpful step excited venture discipline completed highly recommended best industry biggest highlight trainers designed beginner achieve mastery subjects industry covers wide range topics right scratch math statistics toughest topics deep  anyone goes programs definitely set apart highly recommend courses passionate dedicated build great career science currently student post graduate business analytics online months duration comprehensive  covering topics statistical analysis machine  mining text mining time others content materials lucid videos crafted ensure proper  people minimal analytics ample relevant case studies exercises featuring real datasets enhance coding skills primary language coding scope  R SQL management tableau part curriculum administration point contact support helpful queries within great acquainted analytics great  best choice people specialized business analytics great  happy strongly experience help grow career great faculty amazing easy understand training material thousands reviews covering denying curriculum impressive meeting international mainly faculties handled faculties explaining concepts clear manner faculties kind friendly humble communicating explaining concepts industry experience many thanks providing strong statistics effort accommodating went words happy customer virtual  served silver platter hard ignore when people virtual hard thing changed perspective virtual  p faculty great  predictive modeling virtual class whistles virtual golden gate bridge everything still said prefers good old  much work definitely go great efforts great  team  never fail support great   almost  online programs great completed  structured something new doubts weekly  material resolved mentoring session good mix assisted  weekly mentor assures help available module understand module capstone project helps putting together concepts course enjoyed understanding  great work thanks efforts taken management huge success real-life business analytics problems points contribute quality content designed world class faculties turnaround time queries regular classroom options wanted something could weekends without hindering regular work interested blend academicians industry specialist great  providing  criteria institution focusses overall grooming students experience great  extremely good available country best part lot exposure people coming industry experiences overall content quite comprehensive lot  things work already manager opted explore opportunities towards management great experience faculties colleges different backgrounds industry sessions structure good experienced person basics required taken care students highly experienced process real value whole experience\""
   ]
  },
  {
   "cell_type": "code",
   "execution_count": null,
   "id": "13bb5647",
   "metadata": {},
   "outputs": [],
   "source": []
  }
 ],
 "metadata": {
  "kernelspec": {
   "display_name": "Python 3",
   "language": "python",
   "name": "python3"
  },
  "language_info": {
   "codemirror_mode": {
    "name": "ipython",
    "version": 3
   },
   "file_extension": ".py",
   "mimetype": "text/x-python",
   "name": "python",
   "nbconvert_exporter": "python",
   "pygments_lexer": "ipython3",
   "version": "3.8.8"
  }
 },
 "nbformat": 4,
 "nbformat_minor": 5
}
