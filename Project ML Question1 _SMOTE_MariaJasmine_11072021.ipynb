{
 "cells": [
  {
   "cell_type": "code",
   "execution_count": 1,
   "id": "c3ee38e8",
   "metadata": {},
   "outputs": [],
   "source": [
    "import numpy as np\n",
    "import pandas as pd\n",
    "\n",
    "import warnings\n",
    "warnings.filterwarnings(\"ignore\")\n",
    "\n",
    "from imblearn import under_sampling, over_sampling\n",
    "from imblearn.over_sampling import SMOTE\n",
    "\n",
    "from sklearn.model_selection import train_test_split\n",
    "from sklearn.preprocessing import MinMaxScaler \n",
    "from sklearn.preprocessing import StandardScaler\n",
    "from sklearn.naive_bayes import GaussianNB\n",
    "from sklearn.linear_model import LogisticRegression\n",
    "from sklearn.discriminant_analysis import LinearDiscriminantAnalysis\n",
    "from sklearn.neighbors import KNeighborsClassifier\n",
    "from sklearn.ensemble import BaggingClassifier\n",
    "from sklearn.ensemble import RandomForestClassifier\n",
    "from sklearn.model_selection import GridSearchCV\n",
    "from sklearn import svm\n",
    "from sklearn.ensemble import GradientBoostingClassifier\n",
    "from sklearn.ensemble import AdaBoostClassifier\n",
    "from sklearn.ensemble import VotingClassifier\n",
    "from sklearn import model_selection\n",
    "from sklearn.metrics import accuracy_score,roc_auc_score,roc_curve,classification_report,confusion_matrix,log_loss,f1_score\n",
    "from sklearn.model_selection import cross_val_score,KFold"
   ]
  },
  {
   "cell_type": "code",
   "execution_count": 2,
   "id": "2df16e92",
   "metadata": {},
   "outputs": [],
   "source": [
    "X = pd.read_csv('Election_X.csv')\n",
    "y= pd.read_csv('Election_y.csv')"
   ]
  },
  {
   "cell_type": "code",
   "execution_count": 8,
   "id": "78d8df6a",
   "metadata": {},
   "outputs": [],
   "source": [
    "oversample = SMOTE()\n",
    "x_SMOTE, y_SMOTE = oversample.fit_resample(X,y)"
   ]
  },
  {
   "cell_type": "code",
   "execution_count": 18,
   "id": "0a106f96",
   "metadata": {},
   "outputs": [],
   "source": [
    "x_trainS,x_testS,y_trainS,y_testS = train_test_split(x_SMOTE,y_SMOTE,test_size=.30,random_state=1)"
   ]
  },
  {
   "cell_type": "markdown",
   "id": "05b64b2c",
   "metadata": {},
   "source": [
    "#### Bagging Classifier after SMOTE"
   ]
  },
  {
   "cell_type": "code",
   "execution_count": 19,
   "id": "b254a38d",
   "metadata": {},
   "outputs": [
    {
     "data": {
      "text/html": [
       "<div>\n",
       "<style scoped>\n",
       "    .dataframe tbody tr th:only-of-type {\n",
       "        vertical-align: middle;\n",
       "    }\n",
       "\n",
       "    .dataframe tbody tr th {\n",
       "        vertical-align: top;\n",
       "    }\n",
       "\n",
       "    .dataframe thead th {\n",
       "        text-align: right;\n",
       "    }\n",
       "</style>\n",
       "<table border=\"1\" class=\"dataframe\">\n",
       "  <thead>\n",
       "    <tr style=\"text-align: right;\">\n",
       "      <th></th>\n",
       "      <th>Bag_S_Train</th>\n",
       "      <th>Bag_S_Test</th>\n",
       "    </tr>\n",
       "  </thead>\n",
       "  <tbody>\n",
       "    <tr>\n",
       "      <th>Accuracy</th>\n",
       "      <td>0.844</td>\n",
       "      <td>0.820</td>\n",
       "    </tr>\n",
       "    <tr>\n",
       "      <th>Roc_Score</th>\n",
       "      <td>0.921</td>\n",
       "      <td>0.901</td>\n",
       "    </tr>\n",
       "    <tr>\n",
       "      <th>F1_Score</th>\n",
       "      <td>0.845</td>\n",
       "      <td>0.815</td>\n",
       "    </tr>\n",
       "    <tr>\n",
       "      <th>Log_Loss</th>\n",
       "      <td>5.395</td>\n",
       "      <td>6.201</td>\n",
       "    </tr>\n",
       "  </tbody>\n",
       "</table>\n",
       "</div>"
      ],
      "text/plain": [
       "           Bag_S_Train  Bag_S_Test\n",
       "Accuracy         0.844       0.820\n",
       "Roc_Score        0.921       0.901\n",
       "F1_Score         0.845       0.815\n",
       "Log_Loss         5.395       6.201"
      ]
     },
     "execution_count": 19,
     "metadata": {},
     "output_type": "execute_result"
    }
   ],
   "source": [
    "Model_Bag_Smote = BaggingClassifier(base_estimator=RandomForestClassifier(n_estimators=50,random_state=1,max_depth=4,min_samples_leaf=15,\n",
    "                                                                         min_samples_split=45),n_estimators=50).fit(x_trainS,y_trainS)\n",
    "\n",
    "# Evaluation metrics : Train and Test\n",
    "\n",
    "BagS_Score_Train = Model_Bag_Smote.score(x_trainS,y_trainS)\n",
    "BagS_Roc_Score_Train = roc_auc_score(y_trainS,Model_Bag_Smote.predict_proba(x_trainS)[:,1])\n",
    "BagS_F1Score_Train = f1_score(y_trainS, Model_Bag_Smote.predict(x_trainS))\n",
    "BagS_Log_loss_Train = log_loss(y_trainS, Model_Bag_Smote.predict(x_trainS))\n",
    "\n",
    "BagS_Score_Test = Model_Bag_Smote.score(x_testS,y_testS)\n",
    "BagS_Roc_Score_Test = roc_auc_score(y_testS,Model_Bag_Smote.predict_proba(x_testS)[:,1])\n",
    "BagS_F1Score_Test = f1_score(y_testS, Model_Bag_Smote.predict(x_testS))\n",
    "BagS_Log_loss_Test = log_loss(y_testS, Model_Bag_Smote.predict(x_testS))\n",
    "\n",
    "Model_Metric_Smote = pd.DataFrame(index=['Accuracy','Roc_Score','F1_Score','Log_Loss'])\n",
    "Model_Metric_Smote['Bag_S_Train'] = [BagS_Score_Train,BagS_Roc_Score_Train,BagS_F1Score_Train,BagS_Log_loss_Train]\n",
    "Model_Metric_Smote['Bag_S_Test'] = [BagS_Score_Test,BagS_Roc_Score_Test,BagS_F1Score_Test,BagS_Log_loss_Test]\n",
    "round(Model_Metric_Smote,3)"
   ]
  },
  {
   "cell_type": "markdown",
   "id": "69efdad3",
   "metadata": {},
   "source": [
    "#### ADA Boost Classifier after SMOTE"
   ]
  },
  {
   "cell_type": "code",
   "execution_count": 20,
   "id": "0bb66bdd",
   "metadata": {},
   "outputs": [
    {
     "name": "stdout",
     "output_type": "stream",
     "text": [
      "Results for 50 estimators:\n",
      "0.8155753968253968\n",
      "Results for 60 estimators:\n",
      "0.8171626984126984\n",
      "Results for 70 estimators:\n",
      "0.8124007936507937\n",
      "Results for 80 estimators:\n",
      "0.8139384920634921\n",
      "Results for 90 estimators:\n",
      "0.8171378968253968\n",
      "Results for 100 estimators:\n",
      "0.8092261904761905\n"
     ]
    }
   ],
   "source": [
    "n_estimators = np.arange(50,110,10)\n",
    "k_folds = KFold(n_splits=10, random_state=1)\n",
    "\n",
    "for i in n_estimators:\n",
    "    Model_adaS_boost = AdaBoostClassifier(n_estimators=i,random_state=1)\n",
    "    Model_adaS_boost.fit(x_trainS, y_trainS)\n",
    "    results = cross_val_score(Model_adaS_boost, x_testS, y_testS, cv=k_folds)\n",
    "    print(\"Results for {} estimators:\".format(i))\n",
    "    print(results.mean())"
   ]
  },
  {
   "cell_type": "code",
   "execution_count": 21,
   "id": "251fb703",
   "metadata": {},
   "outputs": [
    {
     "data": {
      "text/html": [
       "<div>\n",
       "<style scoped>\n",
       "    .dataframe tbody tr th:only-of-type {\n",
       "        vertical-align: middle;\n",
       "    }\n",
       "\n",
       "    .dataframe tbody tr th {\n",
       "        vertical-align: top;\n",
       "    }\n",
       "\n",
       "    .dataframe thead th {\n",
       "        text-align: right;\n",
       "    }\n",
       "</style>\n",
       "<table border=\"1\" class=\"dataframe\">\n",
       "  <thead>\n",
       "    <tr style=\"text-align: right;\">\n",
       "      <th></th>\n",
       "      <th>Bag_S_Train</th>\n",
       "      <th>Bag_S_Test</th>\n",
       "      <th>ABoost_S_Train</th>\n",
       "      <th>ABoost_S_Test</th>\n",
       "    </tr>\n",
       "  </thead>\n",
       "  <tbody>\n",
       "    <tr>\n",
       "      <th>Accuracy</th>\n",
       "      <td>0.844</td>\n",
       "      <td>0.820</td>\n",
       "      <td>0.855</td>\n",
       "      <td>0.831</td>\n",
       "    </tr>\n",
       "    <tr>\n",
       "      <th>Roc_Score</th>\n",
       "      <td>0.921</td>\n",
       "      <td>0.901</td>\n",
       "      <td>0.929</td>\n",
       "      <td>0.905</td>\n",
       "    </tr>\n",
       "    <tr>\n",
       "      <th>F1_Score</th>\n",
       "      <td>0.845</td>\n",
       "      <td>0.815</td>\n",
       "      <td>0.857</td>\n",
       "      <td>0.825</td>\n",
       "    </tr>\n",
       "    <tr>\n",
       "      <th>Log_Loss</th>\n",
       "      <td>5.395</td>\n",
       "      <td>6.201</td>\n",
       "      <td>5.021</td>\n",
       "      <td>5.820</td>\n",
       "    </tr>\n",
       "  </tbody>\n",
       "</table>\n",
       "</div>"
      ],
      "text/plain": [
       "           Bag_S_Train  Bag_S_Test  ABoost_S_Train  ABoost_S_Test\n",
       "Accuracy         0.844       0.820           0.855          0.831\n",
       "Roc_Score        0.921       0.901           0.929          0.905\n",
       "F1_Score         0.845       0.815           0.857          0.825\n",
       "Log_Loss         5.395       6.201           5.021          5.820"
      ]
     },
     "execution_count": 21,
     "metadata": {},
     "output_type": "execute_result"
    }
   ],
   "source": [
    "Model_adaS_boost = AdaBoostClassifier(n_estimators=90,random_state=1).fit(x_trainS,y_trainS)\n",
    "\n",
    "# Evaluation metrics (Train and Test)\n",
    "ABoostS_Score_Train = Model_adaS_boost.score(x_trainS,y_trainS)\n",
    "ABoostS_Roc_Score_Train = roc_auc_score(y_trainS,Model_adaS_boost.predict_proba(x_trainS)[:,1])\n",
    "ABoostS_F1Score_Train = f1_score(y_trainS, Model_adaS_boost.predict(x_trainS))\n",
    "ABoostS_Log_loss_Train = log_loss(y_trainS, Model_adaS_boost.predict(x_trainS))\n",
    "\n",
    "ABoostS_Score_Test = Model_adaS_boost.score(x_testS,y_testS)\n",
    "ABoostS_Roc_Score_Test = roc_auc_score(y_testS,Model_adaS_boost.predict_proba(x_testS)[:,1])\n",
    "ABoostS_F1Score_Test = f1_score(y_testS, Model_adaS_boost.predict(x_testS))\n",
    "ABoostS_Log_loss_Test = log_loss(y_testS, Model_adaS_boost.predict(x_testS))\n",
    "\n",
    "Model_Metric_Smote['ABoost_S_Train'] = [ABoostS_Score_Train,ABoostS_Roc_Score_Train,ABoostS_F1Score_Train,ABoostS_Log_loss_Train]\n",
    "Model_Metric_Smote['ABoost_S_Test'] = [ABoostS_Score_Test,ABoostS_Roc_Score_Test,ABoostS_F1Score_Test,ABoostS_Log_loss_Test]\n",
    "round(Model_Metric_Smote,3)"
   ]
  },
  {
   "cell_type": "markdown",
   "id": "314bd98c",
   "metadata": {},
   "source": [
    "#### Model KNN after SMOTE:"
   ]
  },
  {
   "cell_type": "code",
   "execution_count": 23,
   "id": "b0f67af8",
   "metadata": {},
   "outputs": [
    {
     "data": {
      "text/html": [
       "<div>\n",
       "<style scoped>\n",
       "    .dataframe tbody tr th:only-of-type {\n",
       "        vertical-align: middle;\n",
       "    }\n",
       "\n",
       "    .dataframe tbody tr th {\n",
       "        vertical-align: top;\n",
       "    }\n",
       "\n",
       "    .dataframe thead th {\n",
       "        text-align: right;\n",
       "    }\n",
       "</style>\n",
       "<table border=\"1\" class=\"dataframe\">\n",
       "  <thead>\n",
       "    <tr style=\"text-align: right;\">\n",
       "      <th></th>\n",
       "      <th>Bag_S_Train</th>\n",
       "      <th>Bag_S_Test</th>\n",
       "      <th>ABoost_S_Train</th>\n",
       "      <th>ABoost_S_Test</th>\n",
       "      <th>KNN_S_Train</th>\n",
       "      <th>KNN_S_Test</th>\n",
       "    </tr>\n",
       "  </thead>\n",
       "  <tbody>\n",
       "    <tr>\n",
       "      <th>Accuracy</th>\n",
       "      <td>0.844</td>\n",
       "      <td>0.820</td>\n",
       "      <td>0.855</td>\n",
       "      <td>0.831</td>\n",
       "      <td>0.847</td>\n",
       "      <td>0.805</td>\n",
       "    </tr>\n",
       "    <tr>\n",
       "      <th>Roc_Score</th>\n",
       "      <td>0.921</td>\n",
       "      <td>0.901</td>\n",
       "      <td>0.929</td>\n",
       "      <td>0.905</td>\n",
       "      <td>0.936</td>\n",
       "      <td>0.896</td>\n",
       "    </tr>\n",
       "    <tr>\n",
       "      <th>F1_Score</th>\n",
       "      <td>0.845</td>\n",
       "      <td>0.815</td>\n",
       "      <td>0.857</td>\n",
       "      <td>0.825</td>\n",
       "      <td>0.842</td>\n",
       "      <td>0.787</td>\n",
       "    </tr>\n",
       "    <tr>\n",
       "      <th>Log_Loss</th>\n",
       "      <td>5.395</td>\n",
       "      <td>6.201</td>\n",
       "      <td>5.021</td>\n",
       "      <td>5.820</td>\n",
       "      <td>5.278</td>\n",
       "      <td>6.745</td>\n",
       "    </tr>\n",
       "  </tbody>\n",
       "</table>\n",
       "</div>"
      ],
      "text/plain": [
       "           Bag_S_Train  Bag_S_Test  ABoost_S_Train  ABoost_S_Test  \\\n",
       "Accuracy         0.844       0.820           0.855          0.831   \n",
       "Roc_Score        0.921       0.901           0.929          0.905   \n",
       "F1_Score         0.845       0.815           0.857          0.825   \n",
       "Log_Loss         5.395       6.201           5.021          5.820   \n",
       "\n",
       "           KNN_S_Train  KNN_S_Test  \n",
       "Accuracy         0.847       0.805  \n",
       "Roc_Score        0.936       0.896  \n",
       "F1_Score         0.842       0.787  \n",
       "Log_Loss         5.278       6.745  "
      ]
     },
     "execution_count": 23,
     "metadata": {},
     "output_type": "execute_result"
    }
   ],
   "source": [
    "Model_KNN_Smote = KNeighborsClassifier(n_neighbors=11,weights='uniform',metric='manhattan',algorithm='ball_tree')\n",
    "Model_KNN_Smote.fit(x_trainS, y_trainS)\n",
    "\n",
    "# Evaluation metrics (Train and Test)\n",
    "\n",
    "KNNS_Score_Train = Model_KNN_Smote.score(x_trainS,y_trainS)\n",
    "KNNS_Roc_Score_Train = roc_auc_score(y_trainS,Model_KNN_Smote.predict_proba(x_trainS)[:,1])\n",
    "KNNS_F1Score_Train = f1_score(y_trainS, Model_KNN_Smote.predict(x_trainS))\n",
    "KNNS_Log_loss_Train = log_loss(y_trainS, Model_KNN_Smote.predict(x_trainS))\n",
    "\n",
    "KNNS_Score_Test = Model_KNN_Smote.score(x_testS,y_testS)\n",
    "KNNS_Roc_Score_Test = roc_auc_score(y_testS,Model_KNN_Smote.predict_proba(x_testS)[:,1])\n",
    "KNNS_F1Score_Test = f1_score(y_testS, Model_KNN_Smote.predict(x_testS))\n",
    "KNNS_Log_loss_Test = log_loss(y_testS, Model_KNN_Smote.predict(x_testS))\n",
    "\n",
    "Model_Metric_Smote['KNN_S_Train'] = [KNNS_Score_Train,KNNS_Roc_Score_Train,KNNS_F1Score_Train,KNNS_Log_loss_Train]\n",
    "Model_Metric_Smote['KNN_S_Test'] = [KNNS_Score_Test,KNNS_Roc_Score_Test,KNNS_F1Score_Test,KNNS_Log_loss_Test]\n",
    "round(Model_Metric_Smote,3)"
   ]
  },
  {
   "cell_type": "markdown",
   "id": "a82e8a94",
   "metadata": {},
   "source": [
    "#### Model NB after SMOTE"
   ]
  },
  {
   "cell_type": "code",
   "execution_count": 25,
   "id": "b26b6004",
   "metadata": {},
   "outputs": [
    {
     "data": {
      "text/html": [
       "<div>\n",
       "<style scoped>\n",
       "    .dataframe tbody tr th:only-of-type {\n",
       "        vertical-align: middle;\n",
       "    }\n",
       "\n",
       "    .dataframe tbody tr th {\n",
       "        vertical-align: top;\n",
       "    }\n",
       "\n",
       "    .dataframe thead th {\n",
       "        text-align: right;\n",
       "    }\n",
       "</style>\n",
       "<table border=\"1\" class=\"dataframe\">\n",
       "  <thead>\n",
       "    <tr style=\"text-align: right;\">\n",
       "      <th></th>\n",
       "      <th>Accuracy</th>\n",
       "      <th>Roc_Score</th>\n",
       "      <th>F1_Score</th>\n",
       "      <th>Log_Loss</th>\n",
       "    </tr>\n",
       "  </thead>\n",
       "  <tbody>\n",
       "    <tr>\n",
       "      <th>Bag_S_Train</th>\n",
       "      <td>0.844</td>\n",
       "      <td>0.921</td>\n",
       "      <td>0.845</td>\n",
       "      <td>5.395</td>\n",
       "    </tr>\n",
       "    <tr>\n",
       "      <th>Bag_S_Test</th>\n",
       "      <td>0.820</td>\n",
       "      <td>0.901</td>\n",
       "      <td>0.815</td>\n",
       "      <td>6.201</td>\n",
       "    </tr>\n",
       "    <tr>\n",
       "      <th>ABoost_S_Train</th>\n",
       "      <td>0.855</td>\n",
       "      <td>0.929</td>\n",
       "      <td>0.857</td>\n",
       "      <td>5.021</td>\n",
       "    </tr>\n",
       "    <tr>\n",
       "      <th>ABoost_S_Test</th>\n",
       "      <td>0.831</td>\n",
       "      <td>0.905</td>\n",
       "      <td>0.825</td>\n",
       "      <td>5.820</td>\n",
       "    </tr>\n",
       "    <tr>\n",
       "      <th>KNN_S_Train</th>\n",
       "      <td>0.847</td>\n",
       "      <td>0.936</td>\n",
       "      <td>0.842</td>\n",
       "      <td>5.278</td>\n",
       "    </tr>\n",
       "    <tr>\n",
       "      <th>KNN_S_Test</th>\n",
       "      <td>0.805</td>\n",
       "      <td>0.896</td>\n",
       "      <td>0.787</td>\n",
       "      <td>6.745</td>\n",
       "    </tr>\n",
       "    <tr>\n",
       "      <th>NB_S_Train</th>\n",
       "      <td>0.826</td>\n",
       "      <td>0.904</td>\n",
       "      <td>0.829</td>\n",
       "      <td>6.025</td>\n",
       "    </tr>\n",
       "    <tr>\n",
       "      <th>NB_S_Test</th>\n",
       "      <td>0.811</td>\n",
       "      <td>0.885</td>\n",
       "      <td>0.807</td>\n",
       "      <td>6.527</td>\n",
       "    </tr>\n",
       "  </tbody>\n",
       "</table>\n",
       "</div>"
      ],
      "text/plain": [
       "                Accuracy  Roc_Score  F1_Score  Log_Loss\n",
       "Bag_S_Train        0.844      0.921     0.845     5.395\n",
       "Bag_S_Test         0.820      0.901     0.815     6.201\n",
       "ABoost_S_Train     0.855      0.929     0.857     5.021\n",
       "ABoost_S_Test      0.831      0.905     0.825     5.820\n",
       "KNN_S_Train        0.847      0.936     0.842     5.278\n",
       "KNN_S_Test         0.805      0.896     0.787     6.745\n",
       "NB_S_Train         0.826      0.904     0.829     6.025\n",
       "NB_S_Test          0.811      0.885     0.807     6.527"
      ]
     },
     "execution_count": 25,
     "metadata": {},
     "output_type": "execute_result"
    }
   ],
   "source": [
    "Model_NB_Smote = GaussianNB()\n",
    "Model_NB_Smote.fit(x_trainS, y_trainS)\n",
    "\n",
    "# Evaluation metrics (Train and Test)\n",
    "\n",
    "NBS_Score_Train = Model_NB_Smote.score(x_trainS,y_trainS)\n",
    "NBS_Roc_Score_Train = roc_auc_score(y_trainS,Model_NB_Smote.predict_proba(x_trainS)[:,1])\n",
    "NBS_F1Score_Train = f1_score(y_trainS, Model_NB_Smote.predict(x_trainS))\n",
    "NBS_Log_loss_Train = log_loss(y_trainS, Model_NB_Smote.predict(x_trainS))\n",
    "\n",
    "NBS_Score_Test = Model_NB_Smote.score(x_testS,y_testS)\n",
    "NBS_Roc_Score_Test = roc_auc_score(y_testS,Model_NB_Smote.predict_proba(x_testS)[:,1])\n",
    "NBS_F1Score_Test = f1_score(y_testS, Model_NB_Smote.predict(x_testS))\n",
    "NBS_Log_loss_Test = log_loss(y_testS, Model_NB_Smote.predict(x_testS))\n",
    "\n",
    "Model_Metric_Smote['NB_S_Train'] = [NBS_Score_Train,NBS_Roc_Score_Train,NBS_F1Score_Train,NBS_Log_loss_Train]\n",
    "Model_Metric_Smote['NB_S_Test'] = [NBS_Score_Test,NBS_Roc_Score_Test,NBS_F1Score_Test,NBS_Log_loss_Test]\n",
    "\n",
    "round(Model_Metric_Smote,3).T"
   ]
  },
  {
   "cell_type": "code",
   "execution_count": 32,
   "id": "92a5bd4c",
   "metadata": {},
   "outputs": [
    {
     "data": {
      "text/html": [
       "<div>\n",
       "<style scoped>\n",
       "    .dataframe tbody tr th:only-of-type {\n",
       "        vertical-align: middle;\n",
       "    }\n",
       "\n",
       "    .dataframe tbody tr th {\n",
       "        vertical-align: top;\n",
       "    }\n",
       "\n",
       "    .dataframe thead th {\n",
       "        text-align: right;\n",
       "    }\n",
       "</style>\n",
       "<table border=\"1\" class=\"dataframe\">\n",
       "  <thead>\n",
       "    <tr style=\"text-align: right;\">\n",
       "      <th></th>\n",
       "      <th>Accuracy</th>\n",
       "      <th>Roc_Score</th>\n",
       "      <th>F1_Score</th>\n",
       "      <th>Log_Loss</th>\n",
       "    </tr>\n",
       "  </thead>\n",
       "  <tbody>\n",
       "    <tr>\n",
       "      <th>ABoost_S_Test</th>\n",
       "      <td>0.831</td>\n",
       "      <td>0.905</td>\n",
       "      <td>0.825</td>\n",
       "      <td>5.820</td>\n",
       "    </tr>\n",
       "    <tr>\n",
       "      <th>NB_S_Train</th>\n",
       "      <td>0.826</td>\n",
       "      <td>0.904</td>\n",
       "      <td>0.829</td>\n",
       "      <td>6.025</td>\n",
       "    </tr>\n",
       "    <tr>\n",
       "      <th>Bag_S_Test</th>\n",
       "      <td>0.820</td>\n",
       "      <td>0.901</td>\n",
       "      <td>0.815</td>\n",
       "      <td>6.201</td>\n",
       "    </tr>\n",
       "    <tr>\n",
       "      <th>NB_S_Test</th>\n",
       "      <td>0.811</td>\n",
       "      <td>0.885</td>\n",
       "      <td>0.807</td>\n",
       "      <td>6.527</td>\n",
       "    </tr>\n",
       "    <tr>\n",
       "      <th>KNN_S_Test</th>\n",
       "      <td>0.805</td>\n",
       "      <td>0.896</td>\n",
       "      <td>0.787</td>\n",
       "      <td>6.745</td>\n",
       "    </tr>\n",
       "  </tbody>\n",
       "</table>\n",
       "</div>"
      ],
      "text/plain": [
       "               Accuracy  Roc_Score  F1_Score  Log_Loss\n",
       "ABoost_S_Test     0.831      0.905     0.825     5.820\n",
       "NB_S_Train        0.826      0.904     0.829     6.025\n",
       "Bag_S_Test        0.820      0.901     0.815     6.201\n",
       "NB_S_Test         0.811      0.885     0.807     6.527\n",
       "KNN_S_Test        0.805      0.896     0.787     6.745"
      ]
     },
     "execution_count": 32,
     "metadata": {},
     "output_type": "execute_result"
    }
   ],
   "source": [
    "round(Model_Metric_Smote,3).T.sort_values(by='Accuracy',ascending=False).iloc[3:,:]"
   ]
  },
  {
   "cell_type": "code",
   "execution_count": 29,
   "id": "feaedd44",
   "metadata": {},
   "outputs": [
    {
     "name": "stdout",
     "output_type": "stream",
     "text": [
      "\u001b[1m CV Scores for the models with best accuracy scores \u001b[0m\n",
      "---------------------------------------------------------\n",
      "CV scores for Bagging model\n",
      "[0.84251969 0.79527559 0.8503937  0.8503937  0.74015748]\n",
      " \n",
      "CV scores for Ada Boost model\n",
      "[0.84251969 0.82677165 0.84251969 0.82677165 0.75590551]\n",
      " \n",
      "CV scores for KNN model\n",
      "[0.87401575 0.78740157 0.77952756 0.75590551 0.76377953]\n",
      " \n",
      "CV scores for NB model\n",
      "[0.84251969 0.80314961 0.82677165 0.84251969 0.70866142]\n",
      " \n"
     ]
    }
   ],
   "source": [
    "# After SMOTE\n",
    "Models = {Model_Bag_Smote: 'Bagging', Model_adaS_boost: 'Ada Boost',\n",
    "          Model_KNN_Smote:'KNN',Model_NB_Smote:'NB'}\n",
    "\n",
    "print('\\033[1m','CV Scores for the models with best accuracy scores','\\033[0m')\n",
    "print('---------------------------------------------------------')\n",
    "for i in Models:\n",
    "    Scores = cross_val_score(i, x_testS, y_testS, cv=5)\n",
    "    print('CV scores for {} model'.format(Models[i]))\n",
    "    print(Scores)\n",
    "    print(\" \")"
   ]
  },
  {
   "cell_type": "markdown",
   "id": "a696c58c",
   "metadata": {},
   "source": [
    "#### ROC Curve:"
   ]
  },
  {
   "cell_type": "code",
   "execution_count": 31,
   "id": "ae209a17",
   "metadata": {},
   "outputs": [
    {
     "name": "stdout",
     "output_type": "stream",
     "text": [
      "\u001b[1m ROC Curve representation for the top models with accuracy more than 85%\u001b[0m\n",
      "----------------------------------------------------------------------\n",
      "Area under the curve for KNN Model is 0.896\n",
      "Area under the curve for Ada Boost Model is 0.905\n",
      "Area under the curve for Bagging Model is 0.901\n"
     ]
    },
    {
     "data": {
      "image/png": "[encoded data removed]",
      "text/plain": [
       "<Figure size 504x504 with 1 Axes>"
      ]
     },
     "metadata": {
      "needs_background": "light"
     },
     "output_type": "display_data"
    }
   ],
   "source": [
    "import matplotlib.pyplot as plt\n",
    "\n",
    "print('\\033[1m','ROC Curve representation for the top models with accuracy more than 85%''\\033[0m')\n",
    "print('----------------------------------------------------------------------')\n",
    "print('Area under the curve for KNN Model is',round(KNNS_Roc_Score_Test,3))\n",
    "print('Area under the curve for Ada Boost Model is',round(ABoostS_Roc_Score_Test,3))\n",
    "print('Area under the curve for Bagging Model is',round(BagS_Roc_Score_Test,3))\n",
    "\n",
    "fpr_KNN, tpr_KNN, thresholds_KNN = roc_curve(y_testS,pd.DataFrame(Model_KNN_Smote.predict_proba(x_testS)).iloc[:,1])\n",
    "fpr_AB, tpr_AB, thresholds_AB = roc_curve(y_testS,pd.DataFrame(Model_adaS_boost.predict_proba(x_testS)).iloc[:,1])\n",
    "fpr_Bag, tpr_Bag, thresholds_Bag = roc_curve(y_testS,pd.DataFrame(Model_Bag_Smote.predict_proba(x_testS)).iloc[:,1])\n",
    "\n",
    "plt.figure(figsize=(7,7))\n",
    "plt.plot([0, 1], [0, 1], linestyle='--');\n",
    "plt.plot(fpr_KNN, tpr_KNN,color='red',label=\"KNN\");\n",
    "plt.plot(fpr_AB, tpr_AB,color='green',label=\"Ada Boost\");\n",
    "plt.plot(fpr_Bag, tpr_Bag,color='blue',label=\"Bagging\");\n",
    "\n",
    "plt.xlabel('False Positive Rate')\n",
    "plt.ylabel('True Positive Rate')\n",
    "plt.title('ROC Curve for all Models_Train Data')\n",
    "plt.legend(bbox_to_anchor=(0., 1.02, 1., .102), loc='lower right')\n",
    "plt.show()"
   ]
  },
  {
   "cell_type": "markdown",
   "id": "b0a4dc9f",
   "metadata": {},
   "source": [
    "#### Model Metric after SMOTE: \n",
    "1. The accuracy for the models are not improved.\n",
    "2. The accuracy scores of KNN, Bagging and NB are dropped after smote.\n",
    "3. So for further analysis, predictions from original data are considered."
   ]
  },
  {
   "cell_type": "code",
   "execution_count": null,
   "id": "5271099e",
   "metadata": {},
   "outputs": [],
   "source": []
  },
  {
   "cell_type": "code",
   "execution_count": null,
   "id": "a82d042d",
   "metadata": {},
   "outputs": [],
   "source": []
  },
  {
   "cell_type": "code",
   "execution_count": null,
   "id": "292682fb",
   "metadata": {},
   "outputs": [],
   "source": []
  },
  {
   "cell_type": "code",
   "execution_count": null,
   "id": "42f4807a",
   "metadata": {},
   "outputs": [],
   "source": []
  }
 ],
 "metadata": {
  "kernelspec": {
   "display_name": "Python 3",
   "language": "python",
   "name": "python3"
  },
  "language_info": {
   "codemirror_mode": {
    "name": "ipython",
    "version": 3
   },
   "file_extension": ".py",
   "mimetype": "text/x-python",
   "name": "python",
   "nbconvert_exporter": "python",
   "pygments_lexer": "ipython3",
   "version": "3.8.8"
  }
 },
 "nbformat": 4,
 "nbformat_minor": 5
}
